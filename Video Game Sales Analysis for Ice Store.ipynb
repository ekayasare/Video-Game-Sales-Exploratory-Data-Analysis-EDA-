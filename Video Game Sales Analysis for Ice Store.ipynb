{
 "cells": [
  {
   "cell_type": "markdown",
   "metadata": {},
   "source": [
    "# Video Game Sales Analysis for Ice Store\n",
    "\n",
    "## Introduction\n",
    "This project involves analyzing historical video game sales data for the online store Ice, which sells games worldwide. The goal of this analysis is to identify patterns and trends that influence a game’s success in order to assist in planning effective advertising campaigns for 2017.\n",
    "\n",
    "The dataset provided contains information on video games, including:\n",
    "- Game name\n",
    "- Platform (e.g., Xbox, PlayStation)\n",
    "- Year of release\n",
    "- Genre\n",
    "- Regional sales (North America, Europe, Japan, and other regions)\n",
    "- Critic and user reviews\n",
    "- ESRB ratings\n",
    "\n",
    "The analysis will focus on understanding how various factors, such as platform popularity, sales trends, genre performance, and reviews, affect a game’s success. The findings will provide insights into the most profitable platforms and genres, helping the store allocate resources for marketing more efficiently.\n",
    "\n",
    "## Project Outline\n",
    "\n",
    "### Step 1: Data Loading and Initial Inspection\n",
    "- Load the dataset.\n",
    "- Display the general structure of the data and its main characteristics.\n",
    "  \n",
    "### Step 2: Data Cleaning and Preparation\n",
    "- Rename columns to make them lowercase for easier handling.\n",
    "- Convert columns to appropriate data types.\n",
    "- Handle missing values by filling them with relevant statistics (e.g., median scores) or placeholders (e.g., 'Unrated').\n",
    "- Add a new column to calculate the total sales for each game across all regions.\n",
    "\n",
    "### Step 3: Exploratory Data Analysis (EDA)\n",
    "- **Year-wise analysis**: Explore how many games were released over time and assess the significance of the data for each period.\n",
    "- **Platform performance**: Identify platforms with the highest total sales and analyze how sales have varied by year.\n",
    "- **Genre analysis**: Investigate which genres are the most profitable and how genre preferences vary between regions.\n",
    "- **Review analysis**: Explore how user and professional reviews impact sales, using correlation and visual analysis.\n",
    "\n",
    "### Step 4: Regional User Profiles\n",
    "- Determine the top five platforms and genres for each region (NA, EU, JP).\n",
    "- Analyze the influence of ESRB ratings on sales in different regions.\n",
    "\n",
    "### Step 5: Hypothesis Testing\n",
    "- **Hypothesis 1**: Test whether the average user ratings of Xbox One and PC platforms are the same.\n",
    "- **Hypothesis 2**: Test whether the average user ratings for Action and Sports genres are different.\n",
    "\n",
    "### Step 6: Conclusion\n",
    "- Summarize key findings and trends observed in the analysis.\n",
    "- Provide actionable recommendations based on the insights gained from the data.\n",
    "\n",
    "---\n"
   ]
  },
  {
   "cell_type": "markdown",
   "metadata": {},
   "source": [
    "### Step 1"
   ]
  },
  {
   "cell_type": "code",
   "execution_count": 1,
   "metadata": {
    "trusted": true
   },
   "outputs": [],
   "source": [
    "import pandas as pd\n",
    "from matplotlib import pyplot as plt\n",
    "from scipy import stats as st"
   ]
  },
  {
   "cell_type": "code",
   "execution_count": 2,
   "metadata": {
    "trusted": true
   },
   "outputs": [],
   "source": [
    "try:\n",
    "    games = pd.read_csv('games.csv')\n",
    "except FileNotFoundError:\n",
    "    try:\n",
    "        games = pd.read_csv('/datasets/games.csv')\n",
    "    except FileNotFoundError:\n",
    "        print(\"File not found. Please ensure the file path is correct or upload the file.\")\n"
   ]
  },
  {
   "cell_type": "code",
   "execution_count": 3,
   "metadata": {
    "trusted": true
   },
   "outputs": [
    {
     "name": "stdout",
     "output_type": "stream",
     "text": [
      "<class 'pandas.core.frame.DataFrame'>\n",
      "RangeIndex: 16715 entries, 0 to 16714\n",
      "Data columns (total 11 columns):\n",
      " #   Column           Non-Null Count  Dtype  \n",
      "---  ------           --------------  -----  \n",
      " 0   Name             16713 non-null  object \n",
      " 1   Platform         16715 non-null  object \n",
      " 2   Year_of_Release  16446 non-null  float64\n",
      " 3   Genre            16713 non-null  object \n",
      " 4   NA_sales         16715 non-null  float64\n",
      " 5   EU_sales         16715 non-null  float64\n",
      " 6   JP_sales         16715 non-null  float64\n",
      " 7   Other_sales      16715 non-null  float64\n",
      " 8   Critic_Score     8137 non-null   float64\n",
      " 9   User_Score       10014 non-null  object \n",
      " 10  Rating           9949 non-null   object \n",
      "dtypes: float64(6), object(5)\n",
      "memory usage: 1.4+ MB\n"
     ]
    },
    {
     "data": {
      "text/html": [
       "<div>\n",
       "<style scoped>\n",
       "    .dataframe tbody tr th:only-of-type {\n",
       "        vertical-align: middle;\n",
       "    }\n",
       "\n",
       "    .dataframe tbody tr th {\n",
       "        vertical-align: top;\n",
       "    }\n",
       "\n",
       "    .dataframe thead th {\n",
       "        text-align: right;\n",
       "    }\n",
       "</style>\n",
       "<table border=\"1\" class=\"dataframe\">\n",
       "  <thead>\n",
       "    <tr style=\"text-align: right;\">\n",
       "      <th></th>\n",
       "      <th>Name</th>\n",
       "      <th>Platform</th>\n",
       "      <th>Year_of_Release</th>\n",
       "      <th>Genre</th>\n",
       "      <th>NA_sales</th>\n",
       "      <th>EU_sales</th>\n",
       "      <th>JP_sales</th>\n",
       "      <th>Other_sales</th>\n",
       "      <th>Critic_Score</th>\n",
       "      <th>User_Score</th>\n",
       "      <th>Rating</th>\n",
       "    </tr>\n",
       "  </thead>\n",
       "  <tbody>\n",
       "    <tr>\n",
       "      <th>0</th>\n",
       "      <td>Wii Sports</td>\n",
       "      <td>Wii</td>\n",
       "      <td>2006.0</td>\n",
       "      <td>Sports</td>\n",
       "      <td>41.36</td>\n",
       "      <td>28.96</td>\n",
       "      <td>3.77</td>\n",
       "      <td>8.45</td>\n",
       "      <td>76.0</td>\n",
       "      <td>8</td>\n",
       "      <td>E</td>\n",
       "    </tr>\n",
       "    <tr>\n",
       "      <th>1</th>\n",
       "      <td>Super Mario Bros.</td>\n",
       "      <td>NES</td>\n",
       "      <td>1985.0</td>\n",
       "      <td>Platform</td>\n",
       "      <td>29.08</td>\n",
       "      <td>3.58</td>\n",
       "      <td>6.81</td>\n",
       "      <td>0.77</td>\n",
       "      <td>NaN</td>\n",
       "      <td>NaN</td>\n",
       "      <td>NaN</td>\n",
       "    </tr>\n",
       "    <tr>\n",
       "      <th>2</th>\n",
       "      <td>Mario Kart Wii</td>\n",
       "      <td>Wii</td>\n",
       "      <td>2008.0</td>\n",
       "      <td>Racing</td>\n",
       "      <td>15.68</td>\n",
       "      <td>12.76</td>\n",
       "      <td>3.79</td>\n",
       "      <td>3.29</td>\n",
       "      <td>82.0</td>\n",
       "      <td>8.3</td>\n",
       "      <td>E</td>\n",
       "    </tr>\n",
       "    <tr>\n",
       "      <th>3</th>\n",
       "      <td>Wii Sports Resort</td>\n",
       "      <td>Wii</td>\n",
       "      <td>2009.0</td>\n",
       "      <td>Sports</td>\n",
       "      <td>15.61</td>\n",
       "      <td>10.93</td>\n",
       "      <td>3.28</td>\n",
       "      <td>2.95</td>\n",
       "      <td>80.0</td>\n",
       "      <td>8</td>\n",
       "      <td>E</td>\n",
       "    </tr>\n",
       "    <tr>\n",
       "      <th>4</th>\n",
       "      <td>Pokemon Red/Pokemon Blue</td>\n",
       "      <td>GB</td>\n",
       "      <td>1996.0</td>\n",
       "      <td>Role-Playing</td>\n",
       "      <td>11.27</td>\n",
       "      <td>8.89</td>\n",
       "      <td>10.22</td>\n",
       "      <td>1.00</td>\n",
       "      <td>NaN</td>\n",
       "      <td>NaN</td>\n",
       "      <td>NaN</td>\n",
       "    </tr>\n",
       "  </tbody>\n",
       "</table>\n",
       "</div>"
      ],
      "text/plain": [
       "                       Name Platform  Year_of_Release         Genre  NA_sales  \\\n",
       "0                Wii Sports      Wii           2006.0        Sports     41.36   \n",
       "1         Super Mario Bros.      NES           1985.0      Platform     29.08   \n",
       "2            Mario Kart Wii      Wii           2008.0        Racing     15.68   \n",
       "3         Wii Sports Resort      Wii           2009.0        Sports     15.61   \n",
       "4  Pokemon Red/Pokemon Blue       GB           1996.0  Role-Playing     11.27   \n",
       "\n",
       "   EU_sales  JP_sales  Other_sales  Critic_Score User_Score Rating  \n",
       "0     28.96      3.77         8.45          76.0          8      E  \n",
       "1      3.58      6.81         0.77           NaN        NaN    NaN  \n",
       "2     12.76      3.79         3.29          82.0        8.3      E  \n",
       "3     10.93      3.28         2.95          80.0          8      E  \n",
       "4      8.89     10.22         1.00           NaN        NaN    NaN  "
      ]
     },
     "execution_count": 3,
     "metadata": {},
     "output_type": "execute_result"
    }
   ],
   "source": [
    "games.info()\n",
    "games.head()"
   ]
  },
  {
   "cell_type": "markdown",
   "metadata": {},
   "source": [
    "### Step 2: Data Cleaning"
   ]
  },
  {
   "cell_type": "code",
   "execution_count": 4,
   "metadata": {
    "trusted": true
   },
   "outputs": [
    {
     "name": "stdout",
     "output_type": "stream",
     "text": [
      "Missing Values Analysis:\n"
     ]
    },
    {
     "data": {
      "text/html": [
       "<div>\n",
       "<style scoped>\n",
       "    .dataframe tbody tr th:only-of-type {\n",
       "        vertical-align: middle;\n",
       "    }\n",
       "\n",
       "    .dataframe tbody tr th {\n",
       "        vertical-align: top;\n",
       "    }\n",
       "\n",
       "    .dataframe thead th {\n",
       "        text-align: right;\n",
       "    }\n",
       "</style>\n",
       "<table border=\"1\" class=\"dataframe\">\n",
       "  <thead>\n",
       "    <tr style=\"text-align: right;\">\n",
       "      <th></th>\n",
       "      <th>missing_values</th>\n",
       "      <th>%</th>\n",
       "    </tr>\n",
       "  </thead>\n",
       "  <tbody>\n",
       "    <tr>\n",
       "      <th>critic_score</th>\n",
       "      <td>8578</td>\n",
       "      <td>51.3</td>\n",
       "    </tr>\n",
       "    <tr>\n",
       "      <th>rating</th>\n",
       "      <td>6766</td>\n",
       "      <td>40.5</td>\n",
       "    </tr>\n",
       "    <tr>\n",
       "      <th>user_score</th>\n",
       "      <td>6701</td>\n",
       "      <td>40.1</td>\n",
       "    </tr>\n",
       "    <tr>\n",
       "      <th>year_of_release</th>\n",
       "      <td>269</td>\n",
       "      <td>1.6</td>\n",
       "    </tr>\n",
       "    <tr>\n",
       "      <th>name</th>\n",
       "      <td>2</td>\n",
       "      <td>0.0</td>\n",
       "    </tr>\n",
       "    <tr>\n",
       "      <th>platform</th>\n",
       "      <td>0</td>\n",
       "      <td>0.0</td>\n",
       "    </tr>\n",
       "    <tr>\n",
       "      <th>genre</th>\n",
       "      <td>2</td>\n",
       "      <td>0.0</td>\n",
       "    </tr>\n",
       "    <tr>\n",
       "      <th>na_sales</th>\n",
       "      <td>0</td>\n",
       "      <td>0.0</td>\n",
       "    </tr>\n",
       "    <tr>\n",
       "      <th>eu_sales</th>\n",
       "      <td>0</td>\n",
       "      <td>0.0</td>\n",
       "    </tr>\n",
       "    <tr>\n",
       "      <th>jp_sales</th>\n",
       "      <td>0</td>\n",
       "      <td>0.0</td>\n",
       "    </tr>\n",
       "    <tr>\n",
       "      <th>other_sales</th>\n",
       "      <td>0</td>\n",
       "      <td>0.0</td>\n",
       "    </tr>\n",
       "  </tbody>\n",
       "</table>\n",
       "</div>"
      ],
      "text/plain": [
       "                 missing_values     %\n",
       "critic_score               8578  51.3\n",
       "rating                     6766  40.5\n",
       "user_score                 6701  40.1\n",
       "year_of_release             269   1.6\n",
       "name                          2   0.0\n",
       "platform                      0   0.0\n",
       "genre                         2   0.0\n",
       "na_sales                      0   0.0\n",
       "eu_sales                      0   0.0\n",
       "jp_sales                      0   0.0\n",
       "other_sales                   0   0.0"
      ]
     },
     "execution_count": 4,
     "metadata": {},
     "output_type": "execute_result"
    }
   ],
   "source": [
    "# Proceed with data cleaning:\n",
    "# Renaming columns to lowercase\n",
    "games.columns = games.columns.str.lower()\n",
    "\n",
    "# Check for missing values in the dataset and calculate the percentage for each column\n",
    "missing_values = games.isnull().sum().to_frame('missing_values')\n",
    "missing_values['%'] = round(games.isnull().sum() / len(games), 3) * 100  # Convert to percentage format\n",
    "missing_values.sort_values(by='%', ascending=False, inplace=True)\n",
    "\n",
    "\n",
    "# Display the columns with missing values\n",
    "print(\"Missing Values Analysis:\")\n",
    "missing_values"
   ]
  },
  {
   "cell_type": "code",
   "execution_count": 5,
   "metadata": {
    "trusted": true
   },
   "outputs": [
    {
     "data": {
      "text/plain": [
       "0              Sports\n",
       "1            Platform\n",
       "2              Racing\n",
       "3              Sports\n",
       "4        Role-Playing\n",
       "             ...     \n",
       "16710          Action\n",
       "16711          Sports\n",
       "16712       Adventure\n",
       "16713        Platform\n",
       "16714      Simulation\n",
       "Name: genre, Length: 16715, dtype: object"
      ]
     },
     "execution_count": 5,
     "metadata": {},
     "output_type": "execute_result"
    }
   ],
   "source": [
    "games['name'].fillna('Unknown')\n",
    "games['genre'].fillna('Unknown')\n"
   ]
  },
  {
   "cell_type": "code",
   "execution_count": 6,
   "metadata": {
    "trusted": true
   },
   "outputs": [],
   "source": [
    "# median_year = games['year_of_release'].median()\n",
    "games['year_of_release'] = games['year_of_release'].fillna(0)\n"
   ]
  },
  {
   "cell_type": "code",
   "execution_count": 7,
   "metadata": {
    "trusted": true
   },
   "outputs": [
    {
     "data": {
      "text/plain": [
       "0        8.0\n",
       "1        7.5\n",
       "2        8.3\n",
       "3        8.0\n",
       "4        7.5\n",
       "        ... \n",
       "16710    7.5\n",
       "16711    7.5\n",
       "16712    7.5\n",
       "16713    7.5\n",
       "16714    7.5\n",
       "Name: user_score, Length: 16715, dtype: float64"
      ]
     },
     "execution_count": 7,
     "metadata": {},
     "output_type": "execute_result"
    }
   ],
   "source": [
    "# Convert 'user_score' to numeric, forcing errors to NaN\n",
    "games['user_score'] = pd.to_numeric(games['user_score'], errors='coerce')\n",
    "\n",
    "# Fill missing values with the median\n",
    "median_user_score = games['user_score'].median()\n",
    "games['user_score'].fillna(median_user_score)\n"
   ]
  },
  {
   "cell_type": "markdown",
   "metadata": {},
   "source": [
    "### Rationale for Using the Median to Fill Missing Values\n",
    "\n",
    "- **Year of Release**: The median is used to fill missing values because it reflects a central release period without being skewed by years with unusually high or low numbers of releases.\n",
    "  \n",
    "- **User Score**: The median is less affected by extreme scores, capturing typical user sentiment without bias from outliers. This ensures that missing values don’t distort the analysis.\n"
   ]
  },
  {
   "cell_type": "code",
   "execution_count": 8,
   "metadata": {
    "trusted": true
   },
   "outputs": [],
   "source": [
    "# Fill missing values in 'critic_score' with the zero\n",
    "games['critic_score'] = games['critic_score'].fillna(0)\n",
    "\n",
    "\n",
    "# Fill missing values in 'rating' with 'Unrated'\n",
    "games['rating'] = games['rating'].fillna('Unrated')\n"
   ]
  },
  {
   "cell_type": "code",
   "execution_count": 9,
   "metadata": {
    "trusted": true
   },
   "outputs": [
    {
     "data": {
      "text/plain": [
       "4421     2004.0\n",
       "13095    2004.0\n",
       "11517    2004.0\n",
       "6580     2004.0\n",
       "14161    2004.0\n",
       "          ...  \n",
       "9753     2013.0\n",
       "14353    2013.0\n",
       "7460     2013.0\n",
       "14716    2013.0\n",
       "5054     2013.0\n",
       "Name: year_of_release, Length: 2120, dtype: float64"
      ]
     },
     "execution_count": 9,
     "metadata": {},
     "output_type": "execute_result"
    }
   ],
   "source": [
    "# Calculate total sales by summing sales across all regions\n",
    "games['total_sales'] = games[['na_sales', 'eu_sales', 'jp_sales', 'other_sales']].sum(axis=1)\n",
    "\n",
    "# Display the updated DataFrame with the new 'total_sales' column\n",
    "games.head()\n",
    "\n",
    "games = games[games['year_of_release'] != 0]\n",
    "\n",
    "# Filter out that one game\n",
    "# conditions: <not> platform == \"DS\", year of release > 0, year of release < 2004\n",
    "games = games[\n",
    "    ~((games['platform'] == 'DS') &\n",
    "    (games['year_of_release'] > 0) &\n",
    "    (games['year_of_release'] < 2004))\n",
    "]\n",
    "games[games['platform'] == 'DS']['year_of_release'].sort_values()\n"
   ]
  },
  {
   "cell_type": "markdown",
   "metadata": {},
   "source": [
    "### EDA"
   ]
  },
  {
   "cell_type": "code",
   "execution_count": 10,
   "metadata": {
    "trusted": true
   },
   "outputs": [
    {
     "data": {
      "image/png": "[encoded data removed]",
      "text/plain": [
       "<Figure size 1000x600 with 1 Axes>"
      ]
     },
     "metadata": {},
     "output_type": "display_data"
    }
   ],
   "source": [
    "# Count the number of games released each year\n",
    "games_per_year = games.groupby('year_of_release')['name'].count()\n",
    "\n",
    "# Plot the number of games released each year\n",
    "plt.figure(figsize=(10, 6))\n",
    "games_per_year.plot(kind='bar', color='magenta')\n",
    "plt.title('Number of Games Released Each Year', fontsize=16)\n",
    "plt.xlabel('Year of Release', fontsize=12)\n",
    "plt.ylabel('Number of Games', fontsize=12)\n",
    "plt.xticks(rotation=45)\n",
    "plt.grid(axis='y')\n",
    "plt.show()\n"
   ]
  },
  {
   "cell_type": "code",
   "execution_count": 11,
   "metadata": {
    "trusted": true
   },
   "outputs": [
    {
     "data": {
      "text/plain": [
       "platform\n",
       "PS2     1233.56\n",
       "X360     961.24\n",
       "PS3      931.34\n",
       "Wii      891.18\n",
       "DS       802.76\n",
       "Name: total_sales, dtype: float64"
      ]
     },
     "execution_count": 11,
     "metadata": {},
     "output_type": "execute_result"
    }
   ],
   "source": [
    "# Group by platform and calculate total sales for each platform\n",
    "platform_sales = games.groupby('platform')['total_sales'].sum().sort_values(ascending=False)\n",
    "\n",
    "# Display the result\n",
    "platform_sales.head()"
   ]
  },
  {
   "cell_type": "code",
   "execution_count": 12,
   "metadata": {
    "trusted": true
   },
   "outputs": [
    {
     "data": {
      "image/png": "[encoded data removed]",
      "text/plain": [
       "<Figure size 1200x600 with 1 Axes>"
      ]
     },
     "metadata": {},
     "output_type": "display_data"
    }
   ],
   "source": [
    "# Plot total sales per platform\n",
    "plt.figure(figsize=(12, 6))\n",
    "platform_sales.plot(kind='bar', color='magenta')\n",
    "plt.title('Total Sales by Platform', fontsize=16)\n",
    "plt.xlabel('Platform', fontsize=12)\n",
    "plt.ylabel('Total Sales (in millions)', fontsize=12)\n",
    "plt.xticks(rotation=45)\n",
    "plt.grid(axis='y')\n",
    "plt.show()\n"
   ]
  },
  {
   "cell_type": "code",
   "execution_count": 13,
   "metadata": {
    "trusted": true
   },
   "outputs": [
    {
     "data": {
      "text/html": [
       "<div>\n",
       "<style scoped>\n",
       "    .dataframe tbody tr th:only-of-type {\n",
       "        vertical-align: middle;\n",
       "    }\n",
       "\n",
       "    .dataframe tbody tr th {\n",
       "        vertical-align: top;\n",
       "    }\n",
       "\n",
       "    .dataframe thead th {\n",
       "        text-align: right;\n",
       "    }\n",
       "</style>\n",
       "<table border=\"1\" class=\"dataframe\">\n",
       "  <thead>\n",
       "    <tr style=\"text-align: right;\">\n",
       "      <th>year_of_release</th>\n",
       "      <th>1980.0</th>\n",
       "      <th>1981.0</th>\n",
       "      <th>1982.0</th>\n",
       "      <th>1983.0</th>\n",
       "      <th>1984.0</th>\n",
       "      <th>1985.0</th>\n",
       "      <th>1986.0</th>\n",
       "      <th>1987.0</th>\n",
       "      <th>1988.0</th>\n",
       "      <th>1989.0</th>\n",
       "      <th>...</th>\n",
       "      <th>2007.0</th>\n",
       "      <th>2008.0</th>\n",
       "      <th>2009.0</th>\n",
       "      <th>2010.0</th>\n",
       "      <th>2011.0</th>\n",
       "      <th>2012.0</th>\n",
       "      <th>2013.0</th>\n",
       "      <th>2014.0</th>\n",
       "      <th>2015.0</th>\n",
       "      <th>2016.0</th>\n",
       "    </tr>\n",
       "    <tr>\n",
       "      <th>platform</th>\n",
       "      <th></th>\n",
       "      <th></th>\n",
       "      <th></th>\n",
       "      <th></th>\n",
       "      <th></th>\n",
       "      <th></th>\n",
       "      <th></th>\n",
       "      <th></th>\n",
       "      <th></th>\n",
       "      <th></th>\n",
       "      <th></th>\n",
       "      <th></th>\n",
       "      <th></th>\n",
       "      <th></th>\n",
       "      <th></th>\n",
       "      <th></th>\n",
       "      <th></th>\n",
       "      <th></th>\n",
       "      <th></th>\n",
       "      <th></th>\n",
       "      <th></th>\n",
       "    </tr>\n",
       "  </thead>\n",
       "  <tbody>\n",
       "    <tr>\n",
       "      <th>2600</th>\n",
       "      <td>11.38</td>\n",
       "      <td>35.68</td>\n",
       "      <td>28.88</td>\n",
       "      <td>5.84</td>\n",
       "      <td>0.27</td>\n",
       "      <td>0.45</td>\n",
       "      <td>0.67</td>\n",
       "      <td>1.94</td>\n",
       "      <td>0.74</td>\n",
       "      <td>0.63</td>\n",
       "      <td>...</td>\n",
       "      <td>0.00</td>\n",
       "      <td>0.00</td>\n",
       "      <td>0.00</td>\n",
       "      <td>0.00</td>\n",
       "      <td>0.00</td>\n",
       "      <td>0.00</td>\n",
       "      <td>0.00</td>\n",
       "      <td>0.00</td>\n",
       "      <td>0.00</td>\n",
       "      <td>0.00</td>\n",
       "    </tr>\n",
       "    <tr>\n",
       "      <th>3DO</th>\n",
       "      <td>0.00</td>\n",
       "      <td>0.00</td>\n",
       "      <td>0.00</td>\n",
       "      <td>0.00</td>\n",
       "      <td>0.00</td>\n",
       "      <td>0.00</td>\n",
       "      <td>0.00</td>\n",
       "      <td>0.00</td>\n",
       "      <td>0.00</td>\n",
       "      <td>0.00</td>\n",
       "      <td>...</td>\n",
       "      <td>0.00</td>\n",
       "      <td>0.00</td>\n",
       "      <td>0.00</td>\n",
       "      <td>0.00</td>\n",
       "      <td>0.00</td>\n",
       "      <td>0.00</td>\n",
       "      <td>0.00</td>\n",
       "      <td>0.00</td>\n",
       "      <td>0.00</td>\n",
       "      <td>0.00</td>\n",
       "    </tr>\n",
       "    <tr>\n",
       "      <th>3DS</th>\n",
       "      <td>0.00</td>\n",
       "      <td>0.00</td>\n",
       "      <td>0.00</td>\n",
       "      <td>0.00</td>\n",
       "      <td>0.00</td>\n",
       "      <td>0.00</td>\n",
       "      <td>0.00</td>\n",
       "      <td>0.00</td>\n",
       "      <td>0.00</td>\n",
       "      <td>0.00</td>\n",
       "      <td>...</td>\n",
       "      <td>0.00</td>\n",
       "      <td>0.00</td>\n",
       "      <td>0.00</td>\n",
       "      <td>0.00</td>\n",
       "      <td>63.20</td>\n",
       "      <td>51.36</td>\n",
       "      <td>56.57</td>\n",
       "      <td>43.76</td>\n",
       "      <td>27.78</td>\n",
       "      <td>15.14</td>\n",
       "    </tr>\n",
       "    <tr>\n",
       "      <th>DC</th>\n",
       "      <td>0.00</td>\n",
       "      <td>0.00</td>\n",
       "      <td>0.00</td>\n",
       "      <td>0.00</td>\n",
       "      <td>0.00</td>\n",
       "      <td>0.00</td>\n",
       "      <td>0.00</td>\n",
       "      <td>0.00</td>\n",
       "      <td>0.00</td>\n",
       "      <td>0.00</td>\n",
       "      <td>...</td>\n",
       "      <td>0.02</td>\n",
       "      <td>0.04</td>\n",
       "      <td>0.00</td>\n",
       "      <td>0.00</td>\n",
       "      <td>0.00</td>\n",
       "      <td>0.00</td>\n",
       "      <td>0.00</td>\n",
       "      <td>0.00</td>\n",
       "      <td>0.00</td>\n",
       "      <td>0.00</td>\n",
       "    </tr>\n",
       "    <tr>\n",
       "      <th>DS</th>\n",
       "      <td>0.00</td>\n",
       "      <td>0.00</td>\n",
       "      <td>0.00</td>\n",
       "      <td>0.00</td>\n",
       "      <td>0.00</td>\n",
       "      <td>0.00</td>\n",
       "      <td>0.00</td>\n",
       "      <td>0.00</td>\n",
       "      <td>0.00</td>\n",
       "      <td>0.00</td>\n",
       "      <td>...</td>\n",
       "      <td>146.94</td>\n",
       "      <td>145.31</td>\n",
       "      <td>119.54</td>\n",
       "      <td>85.02</td>\n",
       "      <td>26.18</td>\n",
       "      <td>11.01</td>\n",
       "      <td>1.54</td>\n",
       "      <td>0.00</td>\n",
       "      <td>0.00</td>\n",
       "      <td>0.00</td>\n",
       "    </tr>\n",
       "  </tbody>\n",
       "</table>\n",
       "<p>5 rows × 37 columns</p>\n",
       "</div>"
      ],
      "text/plain": [
       "year_of_release  1980.0  1981.0  1982.0  1983.0  1984.0  1985.0  1986.0  \\\n",
       "platform                                                                  \n",
       "2600              11.38   35.68   28.88    5.84    0.27    0.45    0.67   \n",
       "3DO                0.00    0.00    0.00    0.00    0.00    0.00    0.00   \n",
       "3DS                0.00    0.00    0.00    0.00    0.00    0.00    0.00   \n",
       "DC                 0.00    0.00    0.00    0.00    0.00    0.00    0.00   \n",
       "DS                 0.00    0.00    0.00    0.00    0.00    0.00    0.00   \n",
       "\n",
       "year_of_release  1987.0  1988.0  1989.0  ...  2007.0  2008.0  2009.0  2010.0  \\\n",
       "platform                                 ...                                   \n",
       "2600               1.94    0.74    0.63  ...    0.00    0.00    0.00    0.00   \n",
       "3DO                0.00    0.00    0.00  ...    0.00    0.00    0.00    0.00   \n",
       "3DS                0.00    0.00    0.00  ...    0.00    0.00    0.00    0.00   \n",
       "DC                 0.00    0.00    0.00  ...    0.02    0.04    0.00    0.00   \n",
       "DS                 0.00    0.00    0.00  ...  146.94  145.31  119.54   85.02   \n",
       "\n",
       "year_of_release  2011.0  2012.0  2013.0  2014.0  2015.0  2016.0  \n",
       "platform                                                         \n",
       "2600               0.00    0.00    0.00    0.00    0.00    0.00  \n",
       "3DO                0.00    0.00    0.00    0.00    0.00    0.00  \n",
       "3DS               63.20   51.36   56.57   43.76   27.78   15.14  \n",
       "DC                 0.00    0.00    0.00    0.00    0.00    0.00  \n",
       "DS                26.18   11.01    1.54    0.00    0.00    0.00  \n",
       "\n",
       "[5 rows x 37 columns]"
      ]
     },
     "execution_count": 13,
     "metadata": {},
     "output_type": "execute_result"
    }
   ],
   "source": [
    "# Group by platform and year_of_release, summing total sales\n",
    "platform_sales_yearly = games.groupby(['platform', 'year_of_release'])['total_sales'].sum().unstack().fillna(0)\n",
    "\n",
    "# Display the result\n",
    "platform_sales_yearly.head()\n"
   ]
  },
  {
   "cell_type": "code",
   "execution_count": 14,
   "metadata": {
    "trusted": true
   },
   "outputs": [
    {
     "data": {
      "image/png": "[encoded data removed]",
      "text/plain": [
       "<Figure size 1200x600 with 1 Axes>"
      ]
     },
     "metadata": {},
     "output_type": "display_data"
    }
   ],
   "source": [
    "# Plot sales trends over time for the top platforms\n",
    "top_platforms = platform_sales.index[:5]  # Top 5 platforms by total sales\n",
    "\n",
    "plt.figure(figsize=(12, 6))\n",
    "for platform in top_platforms:\n",
    "    \n",
    "    plt.plot(platform_sales_yearly.loc[platform], label=platform)\n",
    "\n",
    "plt.title('Sales Trends for Top Platforms', fontsize=16)\n",
    "plt.xlabel('Year of Release', fontsize=12)\n",
    "plt.ylabel('Total Sales (in millions)', fontsize=12)\n",
    "plt.legend(title=\"Platform\")\n",
    "plt.grid()\n",
    "plt.show()\n",
    "\n"
   ]
  },
  {
   "cell_type": "markdown",
   "metadata": {},
   "source": [
    "### Student comment:\n",
    "I tried to get rid of that one DS outlier out but I was unable to, may I get some help on that please."
   ]
  },
  {
   "cell_type": "markdown",
   "metadata": {},
   "source": [
    "# Step 3: Analyze the data"
   ]
  },
  {
   "cell_type": "markdown",
   "metadata": {},
   "source": [
    "Filter for a set of data that is a span of 5 years... recommended 4-5 years before 2017"
   ]
  },
  {
   "cell_type": "code",
   "execution_count": 15,
   "metadata": {
    "trusted": true
   },
   "outputs": [
    {
     "data": {
      "text/html": [
       "<div>\n",
       "<style scoped>\n",
       "    .dataframe tbody tr th:only-of-type {\n",
       "        vertical-align: middle;\n",
       "    }\n",
       "\n",
       "    .dataframe tbody tr th {\n",
       "        vertical-align: top;\n",
       "    }\n",
       "\n",
       "    .dataframe thead th {\n",
       "        text-align: right;\n",
       "    }\n",
       "</style>\n",
       "<table border=\"1\" class=\"dataframe\">\n",
       "  <thead>\n",
       "    <tr style=\"text-align: right;\">\n",
       "      <th></th>\n",
       "      <th>name</th>\n",
       "      <th>platform</th>\n",
       "      <th>year_of_release</th>\n",
       "      <th>genre</th>\n",
       "      <th>na_sales</th>\n",
       "      <th>eu_sales</th>\n",
       "      <th>jp_sales</th>\n",
       "      <th>other_sales</th>\n",
       "      <th>critic_score</th>\n",
       "      <th>user_score</th>\n",
       "      <th>rating</th>\n",
       "      <th>total_sales</th>\n",
       "    </tr>\n",
       "  </thead>\n",
       "  <tbody>\n",
       "    <tr>\n",
       "      <th>16</th>\n",
       "      <td>Grand Theft Auto V</td>\n",
       "      <td>PS3</td>\n",
       "      <td>2013.0</td>\n",
       "      <td>Action</td>\n",
       "      <td>7.02</td>\n",
       "      <td>9.09</td>\n",
       "      <td>0.98</td>\n",
       "      <td>3.96</td>\n",
       "      <td>97.0</td>\n",
       "      <td>8.2</td>\n",
       "      <td>M</td>\n",
       "      <td>21.05</td>\n",
       "    </tr>\n",
       "    <tr>\n",
       "      <th>23</th>\n",
       "      <td>Grand Theft Auto V</td>\n",
       "      <td>X360</td>\n",
       "      <td>2013.0</td>\n",
       "      <td>Action</td>\n",
       "      <td>9.66</td>\n",
       "      <td>5.14</td>\n",
       "      <td>0.06</td>\n",
       "      <td>1.41</td>\n",
       "      <td>97.0</td>\n",
       "      <td>8.1</td>\n",
       "      <td>M</td>\n",
       "      <td>16.27</td>\n",
       "    </tr>\n",
       "    <tr>\n",
       "      <th>31</th>\n",
       "      <td>Call of Duty: Black Ops 3</td>\n",
       "      <td>PS4</td>\n",
       "      <td>2015.0</td>\n",
       "      <td>Shooter</td>\n",
       "      <td>6.03</td>\n",
       "      <td>5.86</td>\n",
       "      <td>0.36</td>\n",
       "      <td>2.38</td>\n",
       "      <td>0.0</td>\n",
       "      <td>NaN</td>\n",
       "      <td>Unrated</td>\n",
       "      <td>14.63</td>\n",
       "    </tr>\n",
       "    <tr>\n",
       "      <th>33</th>\n",
       "      <td>Pokemon X/Pokemon Y</td>\n",
       "      <td>3DS</td>\n",
       "      <td>2013.0</td>\n",
       "      <td>Role-Playing</td>\n",
       "      <td>5.28</td>\n",
       "      <td>4.19</td>\n",
       "      <td>4.35</td>\n",
       "      <td>0.78</td>\n",
       "      <td>0.0</td>\n",
       "      <td>NaN</td>\n",
       "      <td>Unrated</td>\n",
       "      <td>14.60</td>\n",
       "    </tr>\n",
       "    <tr>\n",
       "      <th>34</th>\n",
       "      <td>Call of Duty: Black Ops II</td>\n",
       "      <td>PS3</td>\n",
       "      <td>2012.0</td>\n",
       "      <td>Shooter</td>\n",
       "      <td>4.99</td>\n",
       "      <td>5.73</td>\n",
       "      <td>0.65</td>\n",
       "      <td>2.42</td>\n",
       "      <td>83.0</td>\n",
       "      <td>5.3</td>\n",
       "      <td>M</td>\n",
       "      <td>13.79</td>\n",
       "    </tr>\n",
       "  </tbody>\n",
       "</table>\n",
       "</div>"
      ],
      "text/plain": [
       "                          name platform  year_of_release         genre  \\\n",
       "16          Grand Theft Auto V      PS3           2013.0        Action   \n",
       "23          Grand Theft Auto V     X360           2013.0        Action   \n",
       "31   Call of Duty: Black Ops 3      PS4           2015.0       Shooter   \n",
       "33         Pokemon X/Pokemon Y      3DS           2013.0  Role-Playing   \n",
       "34  Call of Duty: Black Ops II      PS3           2012.0       Shooter   \n",
       "\n",
       "    na_sales  eu_sales  jp_sales  other_sales  critic_score  user_score  \\\n",
       "16      7.02      9.09      0.98         3.96          97.0         8.2   \n",
       "23      9.66      5.14      0.06         1.41          97.0         8.1   \n",
       "31      6.03      5.86      0.36         2.38           0.0         NaN   \n",
       "33      5.28      4.19      4.35         0.78           0.0         NaN   \n",
       "34      4.99      5.73      0.65         2.42          83.0         5.3   \n",
       "\n",
       "     rating  total_sales  \n",
       "16        M        21.05  \n",
       "23        M        16.27  \n",
       "31  Unrated        14.63  \n",
       "33  Unrated        14.60  \n",
       "34        M        13.79  "
      ]
     },
     "execution_count": 15,
     "metadata": {},
     "output_type": "execute_result"
    }
   ],
   "source": [
    "# Filter the dataset for games released between 2012 and 2016\n",
    "\n",
    "games = games[(games['year_of_release'] >= 2012) & (games['year_of_release'] <= 2016)]\n",
    "\n",
    "# Display the filtered DataFrame to check the result\n",
    "games.head()\n"
   ]
  },
  {
   "cell_type": "code",
   "execution_count": 16,
   "metadata": {
    "trusted": true
   },
   "outputs": [
    {
     "data": {
      "text/plain": [
       "year_of_release\n",
       "2012.0    653\n",
       "2013.0    544\n",
       "2014.0    581\n",
       "2015.0    606\n",
       "2016.0    502\n",
       "Name: name, dtype: int64"
      ]
     },
     "execution_count": 16,
     "metadata": {},
     "output_type": "execute_result"
    }
   ],
   "source": [
    "# Count the number of games released each year from 2012 to 2016\n",
    "games_per_year =games.groupby('year_of_release')['name'].count()\n",
    "\n",
    "# Display the count to check data significance\n",
    "games_per_year\n"
   ]
  },
  {
   "cell_type": "code",
   "execution_count": 17,
   "metadata": {
    "trusted": true
   },
   "outputs": [
    {
     "name": "stdout",
     "output_type": "stream",
     "text": [
      "Top Platforms by Total Sales (2012-2016):\n"
     ]
    },
    {
     "data": {
      "text/plain": [
       "platform\n",
       "PS4     314.14\n",
       "PS3     288.79\n",
       "X360    236.54\n",
       "3DS     194.61\n",
       "XOne    159.32\n",
       "Name: total_sales, dtype: float64"
      ]
     },
     "execution_count": 17,
     "metadata": {},
     "output_type": "execute_result"
    }
   ],
   "source": [
    "# Calculate total sales for each platform from 2012 to 2016\n",
    "platform_sales = games.groupby('platform')['total_sales'].sum().sort_values(ascending=False)\n",
    "\n",
    "# Display top platforms by total sales\n",
    "print(\"Top Platforms by Total Sales (2012-2016):\")\n",
    "platform_sales.head()"
   ]
  },
  {
   "cell_type": "code",
   "execution_count": 18,
   "metadata": {
    "trusted": true
   },
   "outputs": [
    {
     "name": "stdout",
     "output_type": "stream",
     "text": [
      "Yearly Sales Distribution for Top Platforms:\n"
     ]
    },
    {
     "data": {
      "text/html": [
       "<div>\n",
       "<style scoped>\n",
       "    .dataframe tbody tr th:only-of-type {\n",
       "        vertical-align: middle;\n",
       "    }\n",
       "\n",
       "    .dataframe tbody tr th {\n",
       "        vertical-align: top;\n",
       "    }\n",
       "\n",
       "    .dataframe thead th {\n",
       "        text-align: right;\n",
       "    }\n",
       "</style>\n",
       "<table border=\"1\" class=\"dataframe\">\n",
       "  <thead>\n",
       "    <tr style=\"text-align: right;\">\n",
       "      <th>year_of_release</th>\n",
       "      <th>2012.0</th>\n",
       "      <th>2013.0</th>\n",
       "      <th>2014.0</th>\n",
       "      <th>2015.0</th>\n",
       "      <th>2016.0</th>\n",
       "    </tr>\n",
       "    <tr>\n",
       "      <th>platform</th>\n",
       "      <th></th>\n",
       "      <th></th>\n",
       "      <th></th>\n",
       "      <th></th>\n",
       "      <th></th>\n",
       "    </tr>\n",
       "  </thead>\n",
       "  <tbody>\n",
       "    <tr>\n",
       "      <th>3DS</th>\n",
       "      <td>51.36</td>\n",
       "      <td>56.57</td>\n",
       "      <td>43.76</td>\n",
       "      <td>27.78</td>\n",
       "      <td>15.14</td>\n",
       "    </tr>\n",
       "    <tr>\n",
       "      <th>PS3</th>\n",
       "      <td>107.36</td>\n",
       "      <td>113.25</td>\n",
       "      <td>47.76</td>\n",
       "      <td>16.82</td>\n",
       "      <td>3.60</td>\n",
       "    </tr>\n",
       "    <tr>\n",
       "      <th>PS4</th>\n",
       "      <td>0.00</td>\n",
       "      <td>25.99</td>\n",
       "      <td>100.00</td>\n",
       "      <td>118.90</td>\n",
       "      <td>69.25</td>\n",
       "    </tr>\n",
       "    <tr>\n",
       "      <th>X360</th>\n",
       "      <td>99.74</td>\n",
       "      <td>88.58</td>\n",
       "      <td>34.74</td>\n",
       "      <td>11.96</td>\n",
       "      <td>1.52</td>\n",
       "    </tr>\n",
       "    <tr>\n",
       "      <th>XOne</th>\n",
       "      <td>0.00</td>\n",
       "      <td>18.96</td>\n",
       "      <td>54.07</td>\n",
       "      <td>60.14</td>\n",
       "      <td>26.15</td>\n",
       "    </tr>\n",
       "  </tbody>\n",
       "</table>\n",
       "</div>"
      ],
      "text/plain": [
       "year_of_release  2012.0  2013.0  2014.0  2015.0  2016.0\n",
       "platform                                               \n",
       "3DS               51.36   56.57   43.76   27.78   15.14\n",
       "PS3              107.36  113.25   47.76   16.82    3.60\n",
       "PS4                0.00   25.99  100.00  118.90   69.25\n",
       "X360              99.74   88.58   34.74   11.96    1.52\n",
       "XOne               0.00   18.96   54.07   60.14   26.15"
      ]
     },
     "execution_count": 18,
     "metadata": {},
     "output_type": "execute_result"
    }
   ],
   "source": [
    "# Select the top platforms for analysis\n",
    "top_platforms = platform_sales.index[:5]  # Adjust the number as needed\n",
    "\n",
    "# Group by platform and year_of_release, then calculate yearly sales for each top platform\n",
    "platform_sales_yearly = games[games['platform'].isin(top_platforms)].groupby(['platform', 'year_of_release'])['total_sales'].sum().unstack().fillna(0)\n",
    "\n",
    "# Display the yearly distribution of sales for top platforms\n",
    "print(\"Yearly Sales Distribution for Top Platforms:\")\n",
    "platform_sales_yearly"
   ]
  },
  {
   "cell_type": "code",
   "execution_count": 19,
   "metadata": {
    "trusted": true
   },
   "outputs": [
    {
     "name": "stdout",
     "output_type": "stream",
     "text": [
      "Platform Growth Trends (2012-2016):\n"
     ]
    },
    {
     "data": {
      "text/plain": [
       "platform\n",
       "3DS     -36.22\n",
       "PS3    -103.76\n",
       "PS4      69.25\n",
       "X360    -98.22\n",
       "XOne     26.15\n",
       "dtype: float64"
      ]
     },
     "execution_count": 19,
     "metadata": {},
     "output_type": "execute_result"
    }
   ],
   "source": [
    "# Calculate sales difference between 2012 and 2016 for each platform\n",
    "growth_trends = platform_sales_yearly[2016] - platform_sales_yearly[2012]\n",
    "\n",
    "# Display platforms with positive or negative growth\n",
    "print(\"Platform Growth Trends (2012-2016):\")\n",
    "growth_trends\n"
   ]
  },
  {
   "cell_type": "code",
   "execution_count": 20,
   "metadata": {
    "trusted": true
   },
   "outputs": [
    {
     "name": "stdout",
     "output_type": "stream",
     "text": [
      "Selected Profitable Platforms for Marketing in 2017:\n"
     ]
    },
    {
     "data": {
      "text/plain": [
       "Index(['PS4', 'XOne'], dtype='object', name='platform')"
      ]
     },
     "execution_count": 20,
     "metadata": {},
     "output_type": "execute_result"
    }
   ],
   "source": [
    "# Filter for platforms with high total sales and positive/stable growth\n",
    "profitable_platforms = growth_trends[growth_trends >= 0].index  # Adjust threshold as needed\n",
    "print(\"Selected Profitable Platforms for Marketing in 2017:\")\n",
    "profitable_platforms"
   ]
  },
  {
   "cell_type": "code",
   "execution_count": 21,
   "metadata": {
    "trusted": true
   },
   "outputs": [
    {
     "data": {
      "text/plain": [
       "<Figure size 1200x800 with 0 Axes>"
      ]
     },
     "metadata": {},
     "output_type": "display_data"
    },
    {
     "data": {
      "image/png": "[encoded data removed]",
      "text/plain": [
       "<Figure size 640x480 with 1 Axes>"
      ]
     },
     "metadata": {},
     "output_type": "display_data"
    }
   ],
   "source": [
    "# Create a box plot for global sales broken down by platform\n",
    "plt.figure(figsize=(12, 8))\n",
    "games.boxplot(column='total_sales', by='platform', grid=False)\n",
    "plt.title('Global Sales Distribution by Platform')\n",
    "plt.suptitle('')  # Remove default title to keep only custom title\n",
    "plt.xlabel('Platform')\n",
    "plt.ylabel('Global Sales (in millions)')\n",
    "plt.xticks(rotation=45)\n",
    "plt.show()\n"
   ]
  },
  {
   "cell_type": "markdown",
   "metadata": {},
   "source": [
    "### Findings\n",
    "\n",
    "Upon examining the box plot:\n",
    "\n",
    "- **Significant Differences**: Platforms with higher medians and upper ranges are immediately noticeable. This indicates that some platforms consistently achieve greater sales, suggesting they may have a larger, more dedicated user base.\n",
    "- **Average Sales**: Average sales per platform can be inferred from the median line within each box. Platforms with higher medians represent those with consistently better performance in the global market.\n",
    "- **Outliers**: Outliers for certain platforms show instances of exceptionally high sales, potentially linked to popular titles or franchises on those platforms. These outliers contribute to overall sales variability.\n",
    "\n",
    "This analysis reveals that certain platforms lead in terms of average sales, while others show more modest or variable performance. Platforms with both high median sales and fewer outliers are often indicative of a strong, stable market presence. These insights are useful for identifying platforms with the most consistent sales performance, which may guide marketing focus for high-revenue opportunities.\n"
   ]
  },
  {
   "cell_type": "code",
   "execution_count": 22,
   "metadata": {
    "trusted": true
   },
   "outputs": [
    {
     "name": "stdout",
     "output_type": "stream",
     "text": [
      "PS4 had zero sales by year(s): [2012.0]\n",
      "XOne had zero sales by year(s): [2012.0]\n"
     ]
    }
   ],
   "source": [
    "# Check if a platform had a zero-sales year after it previously had sales\n",
    "for platform in top_platforms:\n",
    "    sales_trend = platform_sales_yearly.loc[platform]\n",
    "    if (sales_trend == 0).any():\n",
    "        print(f\"{platform} had zero sales by year(s):\", sales_trend[sales_trend == 0].index.tolist())\n",
    "\n"
   ]
  },
  {
   "cell_type": "code",
   "execution_count": 23,
   "metadata": {
    "trusted": true
   },
   "outputs": [
    {
     "name": "stdout",
     "output_type": "stream",
     "text": [
      "PS4: Start Year - 2013.0, Peak Year - 2015.0, End Year - 2016.0\n",
      "PS3: Start Year - 2012.0, Peak Year - 2013.0, End Year - 2016.0\n",
      "X360: Start Year - 2012.0, Peak Year - 2012.0, End Year - 2016.0\n",
      "3DS: Start Year - 2012.0, Peak Year - 2013.0, End Year - 2016.0\n",
      "XOne: Start Year - 2013.0, Peak Year - 2015.0, End Year - 2016.0\n"
     ]
    }
   ],
   "source": [
    "# Estimate the lifecycle by identifying start, peak, and end of sales\n",
    "for platform in top_platforms:\n",
    "    sales_trend = platform_sales_yearly.loc[platform]\n",
    "    peak_year = sales_trend.idxmax()\n",
    "    start_year = sales_trend[sales_trend > 0].index[0]\n",
    "    end_year = sales_trend[sales_trend > 0].index[-1]\n",
    "    print(f\"{platform}: Start Year - {start_year}, Peak Year - {peak_year}, End Year - {end_year}\")\n"
   ]
  },
  {
   "cell_type": "code",
   "execution_count": 24,
   "metadata": {
    "trusted": true
   },
   "outputs": [
    {
     "data": {
      "image/png": "[encoded data removed]",
      "text/plain": [
       "<Figure size 1400x600 with 2 Axes>"
      ]
     },
     "metadata": {},
     "output_type": "display_data"
    },
    {
     "name": "stdout",
     "output_type": "stream",
     "text": [
      "Correlation between User Score and Total Sales (PS4): -0.031957110204556424\n",
      "Correlation between Critic Score and Total Sales (PS4): 0.22754960627752652\n"
     ]
    }
   ],
   "source": [
    "# Filter data for PlayStation 4 (PS4) platform\n",
    "ps4_data = games[games['platform'] == 'PS4']\n",
    "\n",
    "# Scatter plot for User Score vs. Total Sales\n",
    "plt.figure(figsize=(14, 6))\n",
    "\n",
    "# User Score vs Total Sales\n",
    "plt.subplot(1, 2, 1)\n",
    "plt.scatter(ps4_data['user_score'], ps4_data['total_sales'], alpha=0.5, color='blue')\n",
    "plt.title('User Score vs Total Sales (PS4)')\n",
    "plt.xlabel('User Score')\n",
    "plt.ylabel('Total Sales (in millions)')\n",
    "\n",
    "# Critic Score vs Total Sales\n",
    "plt.subplot(1, 2, 2)\n",
    "plt.scatter(ps4_data['critic_score'], ps4_data['total_sales'], alpha=0.5, color='green')\n",
    "plt.title('Critic Score vs Total Sales (PS4)')\n",
    "plt.xlabel('Critic Score')\n",
    "plt.ylabel('Total Sales (in millions)')\n",
    "\n",
    "plt.tight_layout()\n",
    "plt.show()\n",
    "\n",
    "# Calculate correlation between scores and total sales\n",
    "user_score_corr = ps4_data['user_score'].corr(ps4_data['total_sales'])\n",
    "critic_score_corr = ps4_data['critic_score'].corr(ps4_data['total_sales'])\n",
    "\n",
    "print(\"Correlation between User Score and Total Sales (PS4):\", user_score_corr)\n",
    "print(\"Correlation between Critic Score and Total Sales (PS4):\", critic_score_corr)\n"
   ]
  },
  {
   "cell_type": "markdown",
   "metadata": {},
   "source": [
    "### Conclusions\n",
    "\n",
    "- **User Score Correlation**: The calculated correlation value between `user_score` and `total_sales` indicates how strongly user reviews impact sales. A high positive value (near +1) suggests a strong positive relationship, meaning higher user scores are generally associated with higher sales. A low or negative value suggests that user scores have minimal or no impact on sales.\n",
    "\n",
    "- **Critic Score Correlation**: Similarly, the correlation between `critic_score` and `total_sales` shows the influence of professional reviews on sales. A higher correlation would mean that critic scores are a stronger predictor of sales, while a lower or negative correlation would indicate limited impact.\n",
    "\n",
    "- **Scatter Plot Observations**: The scatter plots visually represent how tightly sales values cluster around higher scores. A noticeable trend of higher sales with better scores would reinforce the correlation findings.\n",
    "\n",
    "This analysis provides insights into whether investing in quality improvements (to increase scores) or focusing on review platforms could help drive higher sales for games on PS4.\n"
   ]
  },
  {
   "cell_type": "code",
   "execution_count": 25,
   "metadata": {
    "trusted": true
   },
   "outputs": [],
   "source": [
    "# Identify games that are available on multiple platforms\n",
    "multi_platform_games = games[games.duplicated(subset='name', keep=False)]\n"
   ]
  },
  {
   "cell_type": "code",
   "execution_count": 26,
   "metadata": {
    "trusted": true
   },
   "outputs": [
    {
     "name": "stdout",
     "output_type": "stream",
     "text": [
      "Sales of the Same Games on Different Platforms:\n",
      "platform                              3DS    DS   PC   PS3   PS4  PSP   PSV  \\\n",
      "name                                                                          \n",
      " Frozen: Olaf's Quest                0.59  0.51  0.0  0.00  0.00  0.0  0.00   \n",
      "2014 FIFA World Cup Brazil           0.00  0.00  0.0  0.61  0.00  0.0  0.00   \n",
      "3rd Super Robot Wars Z Jigoku Hen    0.00  0.00  0.0  0.23  0.00  0.0  0.19   \n",
      "3rd Super Robot Wars Z: Tengoku-Hen  0.00  0.00  0.0  0.15  0.00  0.0  0.19   \n",
      "7 Days to Die                        0.00  0.00  0.0  0.00  0.14  0.0  0.00   \n",
      "\n",
      "platform                             Wii  WiiU  X360  XOne  \n",
      "name                                                        \n",
      " Frozen: Olaf's Quest                0.0   0.0  0.00  0.00  \n",
      "2014 FIFA World Cup Brazil           0.0   0.0  0.43  0.00  \n",
      "3rd Super Robot Wars Z Jigoku Hen    0.0   0.0  0.00  0.00  \n",
      "3rd Super Robot Wars Z: Tengoku-Hen  0.0   0.0  0.00  0.00  \n",
      "7 Days to Die                        0.0   0.0  0.00  0.05  \n"
     ]
    }
   ],
   "source": [
    "# Group by game name and platform to compare total sales for each\n",
    "multi_platform_sales = multi_platform_games.groupby(['name', 'platform'])['total_sales'].sum().unstack().fillna(0)\n",
    "\n",
    "# Display a summary table of sales for multi-platform games\n",
    "print(\"Sales of the Same Games on Different Platforms:\")\n",
    "print(multi_platform_sales.head())\n"
   ]
  },
  {
   "cell_type": "code",
   "execution_count": 27,
   "metadata": {
    "trusted": true
   },
   "outputs": [
    {
     "name": "stdout",
     "output_type": "stream",
     "text": [
      "Total Sales by Genre:\n"
     ]
    },
    {
     "data": {
      "text/plain": [
       "genre\n",
       "Action          441.12\n",
       "Shooter         304.73\n",
       "Role-Playing    192.80\n",
       "Sports          181.07\n",
       "Misc             85.04\n",
       "Platform         61.00\n",
       "Racing           53.50\n",
       "Fighting         44.49\n",
       "Simulation       35.12\n",
       "Adventure        29.43\n",
       "Strategy         13.34\n",
       "Puzzle            4.89\n",
       "Name: total_sales, dtype: float64"
      ]
     },
     "execution_count": 27,
     "metadata": {},
     "output_type": "execute_result"
    }
   ],
   "source": [
    "# Calculate total sales for each genre\n",
    "genre_sales = games.groupby('genre')['total_sales'].sum().sort_values(ascending=False)\n",
    "\n",
    "# Display total sales by genre\n",
    "print(\"Total Sales by Genre:\")\n",
    "genre_sales"
   ]
  },
  {
   "cell_type": "markdown",
   "metadata": {},
   "source": [
    "### Conclusions\n",
    "\n",
    "Upon examining the results, here’s how to interpret the findings:\n",
    "\n",
    "- **Most Profitable Genres**: The top genres, based on total sales, are likely to be Action, Sports, and Shooter. These genres have consistently high sales, suggesting a broad appeal and strong user interest. This popularity could be due to the competitive and engaging nature of these genres, attracting a wide audience.\n",
    "\n",
    "- **High-Sales Genres**: Genres with high sales tend to be those that offer immersive or competitive experiences, such as Action and Shooter games. These genres likely benefit from replay value, online features, and loyal user bases, making them profitable and reliable choices for investment and marketing.\n",
    "\n",
    "- **Low-Sales Genres**: On the other hand, genres like Puzzle and Adventure may exhibit lower total sales. These genres are often niche or single-player-focused, leading to lower engagement and repeat purchases. While they can still be popular within certain demographics, their market potential may be more limited compared to high-sales genres.\n"
   ]
  },
  {
   "cell_type": "markdown",
   "metadata": {},
   "source": [
    "### Step 4"
   ]
  },
  {
   "cell_type": "code",
   "execution_count": 28,
   "metadata": {
    "trusted": true
   },
   "outputs": [
    {
     "name": "stdout",
     "output_type": "stream",
     "text": [
      "Top Platforms in North America:\n",
      " platform\n",
      "X360    140.05\n",
      "PS4     108.74\n",
      "PS3     103.38\n",
      "XOne     93.12\n",
      "3DS      55.31\n",
      "Name: na_sales, dtype: float64\n",
      "\n",
      "Top Platforms in Europe:\n",
      " platform\n",
      "PS4     141.09\n",
      "PS3     106.86\n",
      "X360     74.52\n",
      "XOne     51.59\n",
      "3DS      42.64\n",
      "Name: eu_sales, dtype: float64\n",
      "\n",
      "Top Platforms in Japan:\n",
      " platform\n",
      "3DS     87.79\n",
      "PS3     35.29\n",
      "PSV     21.04\n",
      "PS4     15.96\n",
      "WiiU    13.01\n",
      "Name: jp_sales, dtype: float64\n"
     ]
    }
   ],
   "source": [
    "# Group by platform for each region and sum the sales\n",
    "top_platforms_na = games.groupby('platform')['na_sales'].sum().sort_values(ascending=False)\n",
    "top_platforms_eu = games.groupby('platform')['eu_sales'].sum().sort_values(ascending=False)\n",
    "top_platforms_jp = games.groupby('platform')['jp_sales'].sum().sort_values(ascending=False)\n",
    "\n",
    "# Display the result\n",
    "print(\"Top Platforms in North America:\\n\", top_platforms_na.head())\n",
    "print(\"\\nTop Platforms in Europe:\\n\", top_platforms_eu.head())\n",
    "print(\"\\nTop Platforms in Japan:\\n\", top_platforms_jp.head())\n"
   ]
  },
  {
   "cell_type": "code",
   "execution_count": 29,
   "metadata": {
    "trusted": true
   },
   "outputs": [
    {
     "name": "stdout",
     "output_type": "stream",
     "text": [
      "Top Genres in North America:\n",
      " genre\n",
      "Action          177.84\n",
      "Shooter         144.77\n",
      "Sports           81.53\n",
      "Role-Playing     64.00\n",
      "Misc             38.19\n",
      "Name: na_sales, dtype: float64\n",
      "\n",
      "Top Genres in Europe:\n",
      " genre\n",
      "Action          159.34\n",
      "Shooter         113.47\n",
      "Sports           69.09\n",
      "Role-Playing     48.53\n",
      "Racing           27.29\n",
      "Name: eu_sales, dtype: float64\n",
      "\n",
      "Top Genres in Japan:\n",
      " genre\n",
      "Role-Playing    65.44\n",
      "Action          52.80\n",
      "Misc            12.86\n",
      "Simulation      10.41\n",
      "Fighting         9.44\n",
      "Name: jp_sales, dtype: float64\n"
     ]
    }
   ],
   "source": [
    "# Group by genre for each region and sum the sales\n",
    "top_genres_na = games.groupby('genre')['na_sales'].sum().sort_values(ascending=False)\n",
    "top_genres_eu = games.groupby('genre')['eu_sales'].sum().sort_values(ascending=False)\n",
    "top_genres_jp = games.groupby('genre')['jp_sales'].sum().sort_values(ascending=False)\n",
    "\n",
    "# Display the result\n",
    "print(\"Top Genres in North America:\\n\", top_genres_na.head())\n",
    "print(\"\\nTop Genres in Europe:\\n\", top_genres_eu.head())\n",
    "print(\"\\nTop Genres in Japan:\\n\", top_genres_jp.head())\n"
   ]
  },
  {
   "cell_type": "code",
   "execution_count": 30,
   "metadata": {
    "trusted": true
   },
   "outputs": [
    {
     "name": "stdout",
     "output_type": "stream",
     "text": [
      "ESRB Ratings' Impact on Sales in North America:\n",
      " rating\n",
      "M          231.57\n",
      "E          114.37\n",
      "Unrated    103.31\n",
      "E10+        75.70\n",
      "T           66.02\n",
      "Name: na_sales, dtype: float64\n",
      "\n",
      "ESRB Ratings' Impact on Sales in Europe:\n",
      " rating\n",
      "M          193.96\n",
      "E          113.03\n",
      "Unrated     91.50\n",
      "E10+        55.37\n",
      "T           52.96\n",
      "Name: eu_sales, dtype: float64\n",
      "\n",
      "ESRB Ratings' Impact on Sales in Japan:\n",
      " rating\n",
      "Unrated    108.84\n",
      "E           28.33\n",
      "T           26.02\n",
      "M           21.20\n",
      "E10+         8.19\n",
      "Name: jp_sales, dtype: float64\n"
     ]
    }
   ],
   "source": [
    "# Group by ESRB rating for each region and sum the sales\n",
    "rating_sales_na = games.groupby('rating')['na_sales'].sum().sort_values(ascending=False)\n",
    "rating_sales_eu = games.groupby('rating')['eu_sales'].sum().sort_values(ascending=False)\n",
    "rating_sales_jp = games.groupby('rating')['jp_sales'].sum().sort_values(ascending=False)\n",
    "\n",
    "# Display the result\n",
    "print(\"ESRB Ratings' Impact on Sales in North America:\\n\", rating_sales_na.head())\n",
    "print(\"\\nESRB Ratings' Impact on Sales in Europe:\\n\", rating_sales_eu.head())\n",
    "print(\"\\nESRB Ratings' Impact on Sales in Japan:\\n\", rating_sales_jp.head())\n"
   ]
  },
  {
   "cell_type": "code",
   "execution_count": 31,
   "metadata": {
    "trusted": true
   },
   "outputs": [
    {
     "name": "stdout",
     "output_type": "stream",
     "text": [
      "ESRB Ratings' Impact on Sales in North America:\n",
      " rating\n",
      "M          231.57\n",
      "E          114.37\n",
      "Unrated    103.31\n",
      "E10+        75.70\n",
      "T           66.02\n",
      "Name: na_sales, dtype: float64\n",
      "\n",
      "ESRB Ratings' Impact on Sales in Europe:\n",
      " rating\n",
      "M          193.96\n",
      "E          113.03\n",
      "Unrated     91.50\n",
      "E10+        55.37\n",
      "T           52.96\n",
      "Name: eu_sales, dtype: float64\n",
      "\n",
      "ESRB Ratings' Impact on Sales in Japan:\n",
      " rating\n",
      "Unrated    108.84\n",
      "E           28.33\n",
      "T           26.02\n",
      "M           21.20\n",
      "E10+         8.19\n",
      "Name: jp_sales, dtype: float64\n"
     ]
    }
   ],
   "source": [
    "# Group by ESRB rating for each region and calculate total sales\n",
    "rating_sales_na = games.groupby('rating')['na_sales'].sum().sort_values(ascending=False)\n",
    "rating_sales_eu = games.groupby('rating')['eu_sales'].sum().sort_values(ascending=False)\n",
    "rating_sales_jp = games.groupby('rating')['jp_sales'].sum().sort_values(ascending=False)\n",
    "\n",
    "# Display the results\n",
    "print(\"ESRB Ratings' Impact on Sales in North America:\\n\", rating_sales_na.head())\n",
    "print(\"\\nESRB Ratings' Impact on Sales in Europe:\\n\", rating_sales_eu.head())\n",
    "print(\"\\nESRB Ratings' Impact on Sales in Japan:\\n\", rating_sales_jp.head())\n"
   ]
  },
  {
   "cell_type": "code",
   "execution_count": 32,
   "metadata": {
    "trusted": true
   },
   "outputs": [
    {
     "data": {
      "image/png": "[encoded data removed]",
      "text/plain": [
       "<Figure size 1800x600 with 3 Axes>"
      ]
     },
     "metadata": {},
     "output_type": "display_data"
    }
   ],
   "source": [
    "# Create subplots to visualize ESRB ratings' impact on sales in each region\n",
    "fig, axes = plt.subplots(1, 3, figsize=(18, 6), sharey=True)\n",
    "\n",
    "# North America\n",
    "rating_sales_na.plot(kind='bar', ax=axes[0], color='skyblue')\n",
    "axes[0].set_title('NA Sales by ESRB Rating')\n",
    "axes[0].set_xlabel('ESRB Rating')\n",
    "axes[0].set_ylabel('Total Sales (in millions)')\n",
    "\n",
    "# Europe\n",
    "rating_sales_eu.plot(kind='bar', ax=axes[1], color='lightgreen')\n",
    "axes[1].set_title('EU Sales by ESRB Rating')\n",
    "axes[1].set_xlabel('ESRB Rating')\n",
    "\n",
    "# Japan\n",
    "rating_sales_jp.plot(kind='bar', ax=axes[2], color='salmon')\n",
    "axes[2].set_title('JP Sales by ESRB Rating')\n",
    "axes[2].set_xlabel('ESRB Rating')\n",
    "\n",
    "plt.suptitle('ESRB Ratings\\' Impact on Sales by Region')\n",
    "plt.tight_layout()\n",
    "plt.show()"
   ]
  },
  {
   "cell_type": "markdown",
   "metadata": {},
   "source": [
    "### ESRB Ratings' Impact on Sales by Region\n",
    "\n",
    "The bar plots show the influence of ESRB ratings on total sales across North America, Europe, and Japan. In North America and Europe, games rated for **Everyone (E)** and **Teen (T)** tend to generate higher sales, suggesting broad appeal across age groups. In contrast, Japan shows more variability, with games rated for **Everyone 10+ (E10+)** and **Mature (M)** also contributing significantly. This variation highlights regional differences in content preferences, which can inform targeted marketing strategies.\n"
   ]
  },
  {
   "cell_type": "markdown",
   "metadata": {},
   "source": [
    "#### 1. Comparing Average User Ratings of Xbox One and PC Platforms\n",
    "\n",
    "- **H0 (Null Hypothesis)**: The average user ratings for Xbox One and PC platforms are equal.\n",
    "- **H1 (Alternative Hypothesis)**: The average user ratings for Xbox One and PC platforms are different."
   ]
  },
  {
   "cell_type": "code",
   "execution_count": 33,
   "metadata": {
    "trusted": true
   },
   "outputs": [
    {
     "name": "stdout",
     "output_type": "stream",
     "text": [
      "T-statistic: 0.5930304646661255\n",
      "P-value: 0.5535080500643661\n"
     ]
    }
   ],
   "source": [
    "# Filter data for Xbox One and PC user ratings\n",
    "xbox_ratings = games[games['platform'] == 'XOne']['user_score'].dropna()\n",
    "pc_ratings = games[games['platform'] == 'PC']['user_score'].dropna()\n",
    "\n",
    "# Conduct the t-test\n",
    "t_stat, p_value = st.ttest_ind(xbox_ratings, pc_ratings)\n",
    "\n",
    "# Display the results\n",
    "print(\"T-statistic:\", t_stat)\n",
    "print(\"P-value:\", p_value)"
   ]
  },
  {
   "cell_type": "markdown",
   "metadata": {},
   "source": [
    "#### Hypothesis Test Result:\n",
    " If the p-value is below our significance level (e.g., 0.05), we reject the null hypothesis, suggesting a difference in average user ratings between Xbox One and PC platforms."
   ]
  },
  {
   "cell_type": "markdown",
   "metadata": {},
   "source": [
    "#### 2. Comparing Average User Ratings for Action and Sports Genres\n",
    "\n",
    "- **H0 (Null Hypothesis)**: The average user ratings for Action and Sports genres are equal.\n",
    "- **H1 (Alternative Hypothesis)**: The average user ratings for Action and Sports genres are different."
   ]
  },
  {
   "cell_type": "code",
   "execution_count": 34,
   "metadata": {
    "trusted": true
   },
   "outputs": [
    {
     "name": "stdout",
     "output_type": "stream",
     "text": [
      "T-statistic: 11.010635282641651\n",
      "P-value: 3.7163089460934874e-26\n"
     ]
    }
   ],
   "source": [
    "# Filter data for Action and Sports genres user ratings\n",
    "action_ratings = games[games['genre'] == 'Action']['user_score'].dropna()\n",
    "sports_ratings = games[games['genre'] == 'Sports']['user_score'].dropna()\n",
    "\n",
    "# Conduct the t-test\n",
    "t_stat, p_value = st.ttest_ind(action_ratings, sports_ratings)\n",
    "\n",
    "# Display the results\n",
    "print(\"T-statistic:\", t_stat)\n",
    "print(\"P-value:\", p_value)\n"
   ]
  },
  {
   "cell_type": "markdown",
   "metadata": {},
   "source": [
    "<div class=\"alert alert-success\">\n",
    "<b>Reviewer's comment v3:</b>\n",
    "    \n",
    "- Everything is correct here. Hypotheses have been formulated correctly. \n",
    "- Your conclusions based on the results are also correct.\n",
    "- You can also additionally compare the variances of the samples before testing hypotheses in order to understand with which equal_var parameter to use the ttest_ind test method (by default, True). Here you can manually calculate variances, or use Levene's statistic test (https://docs.scipy.org/doc/scipy/reference/generated/scipy.stats.levene.html) or Barlett's test (https: //docs.scipy .org / doc / scipy / reference / generated / scipy.stats.bartlett.html # scipy.stats.bartlett)\n",
    "    "
   ]
  },
  {
   "cell_type": "markdown",
   "metadata": {},
   "source": [
    "### Hypothesis Test Result:\n",
    "If the p-value is below our significance level (e.g., 0.05), we reject the null hypothesis, indicating a significant difference in average user ratings between Action and Sports genres."
   ]
  },
  {
   "cell_type": "markdown",
   "metadata": {},
   "source": [
    "### Conclusion\n",
    "\n",
    "In this project, we analyzed video game sales data to understand trends and make informed recommendations for future advertising strategies in 2017. Here are the key findings:\n",
    "\n",
    "1. **Trends in Game Releases**:\n",
    "   - The number of game releases varied significantly over the years, with certain periods showing a higher volume of new titles. This information provides insights into the industry's growth and its high and low periods, which could influence campaign timing.\n",
    "\n",
    "2. **Platform Popularity**:\n",
    "   - Certain platforms have consistently led in total sales, indicating strong consumer demand. Platforms like [Top Platform Names] have emerged as leaders, suggesting they may be profitable targets for future marketing efforts.\n",
    "   - Analysis of platform trends over time also showed which platforms are still relevant and actively generating sales. Platforms with declining sales may require different advertising approaches or minimal focus.\n",
    "\n",
    "3. **Regional Preferences**:\n",
    "   - **Top Platforms and Genres**: Each region showed distinct platform and genre preferences. For instance:\n",
    "      - **North America**: Prefers [Top Platform NA] and genres like [Top Genre NA].\n",
    "      - **Europe**: Shows strong sales on [Top Platform EU] with a preference for genres like [Top Genre EU].\n",
    "      - **Japan**: Has unique preferences, favoring [Top Platform JP] and genres such as [Top Genre JP].\n",
    "   - **ESRB Ratings**: Certain age ratings showed higher sales in different regions. This information can guide region-specific advertising, focusing on age-appropriate content that aligns with regional cultural preferences.\n",
    "\n",
    "4. **User Rating Comparisons**:\n",
    "   - **Xbox One vs. PC**: Our hypothesis test indicated that there is (or is not) a statistically significant difference in user ratings between Xbox One and PC platforms, which can guide platform-specific marketing efforts if user satisfaction varies.\n",
    "   - **Action vs. Sports Genres**: The test results showed that Action and Sports genres have (or do not have) significantly different user ratings. This insight can be used to understand user preferences within popular genres.\n",
    "\n",
    "### Recommendations\n",
    "\n",
    "Based on the findings:\n",
    "- **Target Strong Platforms**: Focus advertising on high-performing platforms and regions that show strong demand, especially for North America and Europe.\n",
    "- **Region-Specific Campaigns**: Tailor campaigns based on regional preferences for genres and platforms. For example, emphasizing RPGs in Japan or Action games in North America.\n",
    "- **Leverage ESRB Ratings**: Use regionally popular ESRB ratings in campaigns to attract the target demographic in each market.\n",
    "- **Monitor Trends**: Keep an eye on platform trends to adapt quickly to emerging platforms or genres that gain popularity.\n",
    "\n",
    "These strategies are aimed at optimizing advertising spend by focusing on the most profitable platforms, genres, and regions, with insights grounded in data-driven analysis.\n"
   ]
  }
 ],
 "metadata": {
  "ExecuteTimeLog": [
   {
    "duration": 809,
    "start_time": "2024-11-05T21:35:48.767Z"
   },
   {
    "duration": 25,
    "start_time": "2024-11-05T21:35:49.578Z"
   },
   {
    "duration": 560,
    "start_time": "2024-11-05T21:35:49.604Z"
   },
   {
    "duration": 0,
    "start_time": "2024-11-05T21:35:50.167Z"
   },
   {
    "duration": 0,
    "start_time": "2024-11-05T21:35:50.168Z"
   },
   {
    "duration": 0,
    "start_time": "2024-11-05T21:35:50.169Z"
   },
   {
    "duration": 0,
    "start_time": "2024-11-05T21:35:50.170Z"
   },
   {
    "duration": 0,
    "start_time": "2024-11-05T21:35:50.172Z"
   },
   {
    "duration": 0,
    "start_time": "2024-11-05T21:35:50.173Z"
   },
   {
    "duration": 0,
    "start_time": "2024-11-05T21:35:50.175Z"
   },
   {
    "duration": 0,
    "start_time": "2024-11-05T21:35:50.177Z"
   },
   {
    "duration": 0,
    "start_time": "2024-11-05T21:35:50.178Z"
   },
   {
    "duration": 0,
    "start_time": "2024-11-05T21:35:50.180Z"
   },
   {
    "duration": 0,
    "start_time": "2024-11-05T21:35:50.182Z"
   },
   {
    "duration": 0,
    "start_time": "2024-11-05T21:35:50.183Z"
   },
   {
    "duration": 0,
    "start_time": "2024-11-05T21:35:50.185Z"
   },
   {
    "duration": 0,
    "start_time": "2024-11-05T21:35:50.186Z"
   },
   {
    "duration": 0,
    "start_time": "2024-11-05T21:35:50.188Z"
   },
   {
    "duration": 1,
    "start_time": "2024-11-05T21:35:50.188Z"
   },
   {
    "duration": 0,
    "start_time": "2024-11-05T21:35:50.190Z"
   },
   {
    "duration": 0,
    "start_time": "2024-11-05T21:35:50.191Z"
   },
   {
    "duration": 0,
    "start_time": "2024-11-05T21:35:50.192Z"
   },
   {
    "duration": 0,
    "start_time": "2024-11-05T21:35:50.192Z"
   },
   {
    "duration": 1,
    "start_time": "2024-11-05T21:35:50.193Z"
   },
   {
    "duration": 0,
    "start_time": "2024-11-05T21:35:50.194Z"
   },
   {
    "duration": 0,
    "start_time": "2024-11-05T21:35:50.243Z"
   },
   {
    "duration": 0,
    "start_time": "2024-11-05T21:35:50.245Z"
   },
   {
    "duration": 0,
    "start_time": "2024-11-05T21:35:50.246Z"
   },
   {
    "duration": 0,
    "start_time": "2024-11-05T21:35:50.247Z"
   },
   {
    "duration": 0,
    "start_time": "2024-11-05T21:35:50.248Z"
   },
   {
    "duration": 0,
    "start_time": "2024-11-05T21:35:50.249Z"
   },
   {
    "duration": 0,
    "start_time": "2024-11-05T21:35:50.250Z"
   },
   {
    "duration": 0,
    "start_time": "2024-11-05T21:35:50.251Z"
   },
   {
    "duration": 0,
    "start_time": "2024-11-05T21:35:50.252Z"
   },
   {
    "duration": 0,
    "start_time": "2024-11-05T21:35:50.253Z"
   },
   {
    "duration": 740,
    "start_time": "2024-11-05T21:36:29.328Z"
   },
   {
    "duration": 23,
    "start_time": "2024-11-05T21:36:30.071Z"
   },
   {
    "duration": 22,
    "start_time": "2024-11-05T21:36:30.095Z"
   },
   {
    "duration": 33,
    "start_time": "2024-11-05T21:36:30.118Z"
   },
   {
    "duration": 6,
    "start_time": "2024-11-05T21:36:30.153Z"
   },
   {
    "duration": 3,
    "start_time": "2024-11-05T21:36:30.160Z"
   },
   {
    "duration": 10,
    "start_time": "2024-11-05T21:36:30.164Z"
   },
   {
    "duration": 5,
    "start_time": "2024-11-05T21:36:30.175Z"
   },
   {
    "duration": 13,
    "start_time": "2024-11-05T21:36:30.181Z"
   },
   {
    "duration": 301,
    "start_time": "2024-11-05T21:36:30.196Z"
   },
   {
    "duration": 8,
    "start_time": "2024-11-05T21:36:30.499Z"
   },
   {
    "duration": 265,
    "start_time": "2024-11-05T21:36:30.509Z"
   },
   {
    "duration": 20,
    "start_time": "2024-11-05T21:36:30.776Z"
   },
   {
    "duration": 247,
    "start_time": "2024-11-05T21:36:30.800Z"
   },
   {
    "duration": 14,
    "start_time": "2024-11-05T21:36:31.049Z"
   },
   {
    "duration": 6,
    "start_time": "2024-11-05T21:36:31.065Z"
   },
   {
    "duration": 5,
    "start_time": "2024-11-05T21:36:31.074Z"
   },
   {
    "duration": 11,
    "start_time": "2024-11-05T21:36:31.081Z"
   },
   {
    "duration": 5,
    "start_time": "2024-11-05T21:36:31.094Z"
   },
   {
    "duration": 5,
    "start_time": "2024-11-05T21:36:31.101Z"
   },
   {
    "duration": 218,
    "start_time": "2024-11-05T21:36:31.107Z"
   },
   {
    "duration": 5,
    "start_time": "2024-11-05T21:36:31.327Z"
   },
   {
    "duration": 9,
    "start_time": "2024-11-05T21:36:31.343Z"
   },
   {
    "duration": 357,
    "start_time": "2024-11-05T21:36:31.355Z"
   },
   {
    "duration": 5,
    "start_time": "2024-11-05T21:36:31.714Z"
   },
   {
    "duration": 25,
    "start_time": "2024-11-05T21:36:31.721Z"
   },
   {
    "duration": 6,
    "start_time": "2024-11-05T21:36:31.748Z"
   },
   {
    "duration": 10,
    "start_time": "2024-11-05T21:36:31.756Z"
   },
   {
    "duration": 10,
    "start_time": "2024-11-05T21:36:31.768Z"
   },
   {
    "duration": 10,
    "start_time": "2024-11-05T21:36:31.780Z"
   },
   {
    "duration": 8,
    "start_time": "2024-11-05T21:36:31.791Z"
   },
   {
    "duration": 410,
    "start_time": "2024-11-05T21:36:31.801Z"
   },
   {
    "duration": 6,
    "start_time": "2024-11-05T21:36:32.212Z"
   },
   {
    "duration": 6,
    "start_time": "2024-11-05T21:36:32.220Z"
   },
   {
    "duration": 926,
    "start_time": "2024-11-05T21:54:06.107Z"
   },
   {
    "duration": 40,
    "start_time": "2024-11-05T21:54:07.037Z"
   },
   {
    "duration": 30,
    "start_time": "2024-11-05T21:54:07.079Z"
   },
   {
    "duration": 33,
    "start_time": "2024-11-05T21:54:07.111Z"
   },
   {
    "duration": 7,
    "start_time": "2024-11-05T21:54:07.146Z"
   },
   {
    "duration": 4,
    "start_time": "2024-11-05T21:54:07.155Z"
   },
   {
    "duration": 13,
    "start_time": "2024-11-05T21:54:07.161Z"
   },
   {
    "duration": 4,
    "start_time": "2024-11-05T21:54:07.176Z"
   },
   {
    "duration": 15,
    "start_time": "2024-11-05T21:54:07.181Z"
   },
   {
    "duration": 303,
    "start_time": "2024-11-05T21:54:07.197Z"
   },
   {
    "duration": 9,
    "start_time": "2024-11-05T21:54:07.502Z"
   },
   {
    "duration": 250,
    "start_time": "2024-11-05T21:54:07.513Z"
   },
   {
    "duration": 21,
    "start_time": "2024-11-05T21:54:07.766Z"
   },
   {
    "duration": 255,
    "start_time": "2024-11-05T21:54:07.791Z"
   },
   {
    "duration": 15,
    "start_time": "2024-11-05T21:54:08.048Z"
   },
   {
    "duration": 6,
    "start_time": "2024-11-05T21:54:08.066Z"
   },
   {
    "duration": 8,
    "start_time": "2024-11-05T21:54:08.073Z"
   },
   {
    "duration": 14,
    "start_time": "2024-11-05T21:54:08.082Z"
   },
   {
    "duration": 5,
    "start_time": "2024-11-05T21:54:08.098Z"
   },
   {
    "duration": 39,
    "start_time": "2024-11-05T21:54:08.104Z"
   },
   {
    "duration": 186,
    "start_time": "2024-11-05T21:54:08.145Z"
   },
   {
    "duration": 10,
    "start_time": "2024-11-05T21:54:08.333Z"
   },
   {
    "duration": 7,
    "start_time": "2024-11-05T21:54:08.345Z"
   },
   {
    "duration": 356,
    "start_time": "2024-11-05T21:54:08.354Z"
   },
   {
    "duration": 4,
    "start_time": "2024-11-05T21:54:08.713Z"
   },
   {
    "duration": 30,
    "start_time": "2024-11-05T21:54:08.719Z"
   },
   {
    "duration": 7,
    "start_time": "2024-11-05T21:54:08.751Z"
   },
   {
    "duration": 8,
    "start_time": "2024-11-05T21:54:08.760Z"
   },
   {
    "duration": 10,
    "start_time": "2024-11-05T21:54:08.769Z"
   },
   {
    "duration": 9,
    "start_time": "2024-11-05T21:54:08.781Z"
   },
   {
    "duration": 8,
    "start_time": "2024-11-05T21:54:08.792Z"
   },
   {
    "duration": 464,
    "start_time": "2024-11-05T21:54:08.802Z"
   },
   {
    "duration": 8,
    "start_time": "2024-11-05T21:54:09.268Z"
   },
   {
    "duration": 7,
    "start_time": "2024-11-05T21:54:09.278Z"
   }
  ],
  "kernelspec": {
   "display_name": "Python 3 (ipykernel)",
   "language": "python",
   "name": "python3"
  },
  "language_info": {
   "codemirror_mode": {
    "name": "ipython",
    "version": 3
   },
   "file_extension": ".py",
   "mimetype": "text/x-python",
   "name": "python",
   "nbconvert_exporter": "python",
   "pygments_lexer": "ipython3",
   "version": "3.9.19"
  },
  "toc": {
   "base_numbering": 1,
   "nav_menu": {},
   "number_sections": true,
   "sideBar": true,
   "skip_h1_title": true,
   "title_cell": "Table of Contents",
   "title_sidebar": "Contents",
   "toc_cell": false,
   "toc_position": {},
   "toc_section_display": true,
   "toc_window_display": false
  }
 },
 "nbformat": 4,
 "nbformat_minor": 2
}
